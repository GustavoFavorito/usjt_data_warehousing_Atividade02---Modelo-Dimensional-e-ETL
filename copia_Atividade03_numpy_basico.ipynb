{
 "cells": [
  {
   "cell_type": "markdown",
   "metadata": {
    "colab_type": "text",
    "id": "n32BWqjMaryM"
   },
   "source": [
    "![logo_usjt.png](https://www.usjt.br/app/themes/mobister/dist/images/sao-judas-universidade.png)"
   ]
  },
  {
   "cell_type": "markdown",
   "metadata": {
    "colab_type": "text",
    "id": "AC3YcC4NaryQ"
   },
   "source": [
    "# Datawarehousing & Data Mining\n",
    "- **Professor**: Sergio Bonato <antonio.bonato@saojudas.br>"
   ]
  },
  {
   "cell_type": "markdown",
   "metadata": {
    "colab_type": "text",
    "id": "6RalX96EaryS"
   },
   "source": [
    "# Atividade04 - NumPy Básico: Arrays e Processamento Vetorizado\n",
    "\n",
    "**Conteúdo:**\n",
    "- O que é NumPy; NumPy arrays; operações com arrays\n",
    "- NumPy: matrizes e operações com matrizes\n",
    "- NumPy: carregando dados com NumPy\n",
    "- NumPy: álgebra linear básica"
   ]
  },
  {
   "cell_type": "markdown",
   "metadata": {
    "colab_type": "text",
    "id": "tlQidP4-aryV"
   },
   "source": [
    "## Autor\n",
    "**Aluno: Gustavo Favorito Demarchi**\n",
    "\n",
    "**RA: 817123231**\n",
    "\n",
    "Obs: esta atividade é individual."
   ]
  },
  {
   "cell_type": "markdown",
   "metadata": {
    "colab_type": "text",
    "id": "Jj1lxaHWaryX"
   },
   "source": [
    "## Exercícios"
   ]
  },
  {
   "cell_type": "markdown",
   "metadata": {
    "colab_type": "text",
    "id": "n9f1UQNWaryY"
   },
   "source": [
    "**1** Utilize o código dado para importar o arquivo `dados.csv`, que contém dados de saúde sobre homens e mulheres de diversas idades. Veja na tabela a descrição dos campos."
   ]
  },
  {
   "cell_type": "markdown",
   "metadata": {
    "colab_type": "text",
    "id": "J6KKffA6arya"
   },
   "source": [
    "|Ordem|Campo|Descrição|\n",
    "|:-|:-|:-|\n",
    "|0|sexo|Homem=0 Mulher=1|\n",
    "|1|idade|anos completos|\n",
    "|2|rendom|renda domiciliar|\n",
    "|3|anoest|anos de estudo|\n",
    "|4|altura||\n",
    "|5|peso||\n",
    "|6|probagud|0 não teve problemas nos últimos 30 dias, 1 = teve problema nos últimos 30 dias|\n",
    "|7|probcron|0 não tem problemas crônicos, 1 = tem problemas crônicos|\n",
    "|8|gastorem|gasto com medicamentos nos últimos 30 dias|"
   ]
  },
  {
   "cell_type": "markdown",
   "metadata": {
    "colab_type": "text",
    "id": "SRnmMDY6aryb"
   },
   "source": [
    "Utilize o código pronto para importar os dados. Veja que o parâmetro `converters` da função `loadtxt` contém um dicionário que converte os dados faltantes para `nan` (not a number)."
   ]
  },
  {
   "cell_type": "code",
   "execution_count": 1,
   "metadata": {
    "colab": {},
    "colab_type": "code",
    "id": "s7Axf7eYQryq"
   },
   "outputs": [],
   "source": [
    "import numpy as np\n",
    "\n",
    "#coloque aqui o caminho completo do arquivo\n",
    "arquivo = 'dataset/dados.csv'\n",
    "headers = np.array(['sexo', 'idade', 'rendom', 'anoest', 'altura', 'peso', 'probagud', 'probracron', 'gastorem'])\n",
    "zera = lambda x: np.nan if len(x)==0 else x\n",
    "conversores = {i:zera for i in range(9)}\n",
    "arr = None\n",
    "arr = np.loadtxt(arquivo, delimiter=';',dtype=np.float64, converters=conversores)"
   ]
  },
  {
   "cell_type": "markdown",
   "metadata": {
    "colab_type": "text",
    "id": "WFuQEIVGaryg"
   },
   "source": [
    "**a)** Imprima o formato do array arr."
   ]
  },
  {
   "cell_type": "code",
   "execution_count": 2,
   "metadata": {
    "colab": {
     "base_uri": "https://localhost:8080/",
     "height": 34
    },
    "colab_type": "code",
    "executionInfo": {
     "elapsed": 1039,
     "status": "ok",
     "timestamp": 1586138870731,
     "user": {
      "displayName": "Gustavo Favorito Demarchi",
      "photoUrl": "",
      "userId": "01940692939914574708"
     },
     "user_tz": 180
    },
    "id": "veE3uXs5aryh",
    "outputId": "2f873624-9eba-4a8f-869b-58e5d45958f9",
    "scrolled": true
   },
   "outputs": [
    {
     "data": {
      "text/plain": [
       "dtype('float64')"
      ]
     },
     "execution_count": 2,
     "metadata": {},
     "output_type": "execute_result"
    }
   ],
   "source": [
    "arr.dtype"
   ]
  },
  {
   "cell_type": "markdown",
   "metadata": {
    "colab_type": "text",
    "id": "bs_ftkQ7aryk"
   },
   "source": [
    "**b)** Imprima as 10 primeiras linhas do vetor e examine-as."
   ]
  },
  {
   "cell_type": "code",
   "execution_count": 3,
   "metadata": {
    "colab": {
     "base_uri": "https://localhost:8080/",
     "height": 391
    },
    "colab_type": "code",
    "executionInfo": {
     "elapsed": 564,
     "status": "ok",
     "timestamp": 1586138871802,
     "user": {
      "displayName": "Gustavo Favorito Demarchi",
      "photoUrl": "",
      "userId": "01940692939914574708"
     },
     "user_tz": 180
    },
    "id": "Ml75cEtxaryl",
    "outputId": "f2b1698d-4b9c-4aed-93df-97daee05d432"
   },
   "outputs": [
    {
     "name": "stdout",
     "output_type": "stream",
     "text": [
      "['sexo' 'idade' 'rendom' 'anoest' 'altura' 'peso' 'probagud' 'probracron'\n",
      " 'gastorem']\n",
      "[[0.000e+00 4.000e+00 1.320e+02 1.000e+00 9.600e-01 1.500e+01 1.000e+00\n",
      "  1.000e+00 4.600e+00]\n",
      " [0.000e+00 5.000e+01 1.089e+03 1.000e+00 1.690e+00 5.400e+01 1.000e+00\n",
      "  0.000e+00 4.250e+00]\n",
      " [0.000e+00 1.100e+01 1.570e+02 2.000e+00 1.320e+00 2.700e+01 1.000e+00\n",
      "  0.000e+00 5.000e+00]\n",
      " [0.000e+00 2.000e+00 1.570e+02 1.000e+00       nan 1.300e+01 1.000e+00\n",
      "  0.000e+00 5.000e+00]\n",
      " [0.000e+00 1.000e+01 3.000e+02 3.000e+00 1.360e+00 4.300e+01 1.000e+00\n",
      "  0.000e+00 2.000e+00]\n",
      " [0.000e+00 1.000e+00 9.410e+02 1.000e+00 8.500e-01 1.400e+01 1.000e+00\n",
      "  0.000e+00 4.000e-01]\n",
      " [0.000e+00 5.500e+01 7.520e+02 1.000e+00 1.570e+00 5.400e+01 1.000e+00\n",
      "  1.000e+00 7.000e-01]\n",
      " [0.000e+00 1.700e+01 7.520e+02 1.000e+00 1.560e+00 4.600e+01 1.000e+00\n",
      "  0.000e+00 2.500e-01]\n",
      " [0.000e+00 4.800e+01 2.080e+02 1.000e+00 1.610e+00 5.800e+01 1.000e+00\n",
      "  0.000e+00 1.000e+00]\n",
      " [0.000e+00 6.000e+00 6.430e+02 1.000e+00 1.060e+00 1.600e+01 1.000e+00\n",
      "  0.000e+00 1.000e+00]]\n"
     ]
    }
   ],
   "source": [
    "print(headers)\n",
    "print(arr[:10])"
   ]
  },
  {
   "cell_type": "markdown",
   "metadata": {
    "colab_type": "text",
    "id": "-NTloFHRaryn"
   },
   "source": [
    "**c)** Verifique se há colunas com dados nan. Quais são as colunas? Dicas: use o array headers definido no código dado, a ufunction `isnan()` e a função `any()`, um loop `for` e indexação booleana."
   ]
  },
  {
   "cell_type": "code",
   "execution_count": 4,
   "metadata": {
    "colab": {
     "base_uri": "https://localhost:8080/",
     "height": 34
    },
    "colab_type": "code",
    "executionInfo": {
     "elapsed": 920,
     "status": "ok",
     "timestamp": 1586138874179,
     "user": {
      "displayName": "Gustavo Favorito Demarchi",
      "photoUrl": "",
      "userId": "01940692939914574708"
     },
     "user_tz": 180
    },
    "id": "NnuAl0Woaryo",
    "outputId": "819e96dc-403b-466b-96af-e53d284f7349"
   },
   "outputs": [
    {
     "data": {
      "text/plain": [
       "array(['altura', 'peso'], dtype='<U10')"
      ]
     },
     "execution_count": 4,
     "metadata": {},
     "output_type": "execute_result"
    }
   ],
   "source": [
    "colunas_com_nan = [any(np.isnan(arr[:,col])) for col in range(arr.shape[1])]\n",
    "headers[colunas_com_nan]"
   ]
  },
  {
   "cell_type": "markdown",
   "metadata": {
    "colab_type": "text",
    "id": "WNn3FgT8aryr"
   },
   "source": [
    "**d)** Crie uma visão do array arr sem as linhas que contém anotações faltantes (dados nan)."
   ]
  },
  {
   "cell_type": "code",
   "execution_count": 5,
   "metadata": {
    "colab": {
     "base_uri": "https://localhost:8080/",
     "height": 170
    },
    "colab_type": "code",
    "executionInfo": {
     "elapsed": 550,
     "status": "ok",
     "timestamp": 1586138875420,
     "user": {
      "displayName": "Gustavo Favorito Demarchi",
      "photoUrl": "",
      "userId": "01940692939914574708"
     },
     "user_tz": 180
    },
    "id": "rTnZmG0Warys",
    "outputId": "1b242e48-8ec8-4525-d386-532381ea2a19"
   },
   "outputs": [
    {
     "name": "stdout",
     "output_type": "stream",
     "text": [
      "3897\n",
      "3570\n",
      "[[0.0000e+00 4.0000e+00 1.3200e+02 ... 1.0000e+00 1.0000e+00 4.6000e+00]\n",
      " [0.0000e+00 5.0000e+01 1.0890e+03 ... 1.0000e+00 0.0000e+00 4.2500e+00]\n",
      " [0.0000e+00 1.1000e+01 1.5700e+02 ... 1.0000e+00 0.0000e+00 5.0000e+00]\n",
      " ...\n",
      " [1.0000e+00 3.6000e+01 2.5911e+04 ... 0.0000e+00 0.0000e+00 4.0000e+01]\n",
      " [1.0000e+00 7.0000e+01 2.2538e+04 ... 0.0000e+00 1.0000e+00 3.0000e+01]\n",
      " [1.0000e+00 4.9000e+01 2.7510e+04 ... 1.0000e+00 1.0000e+00 3.4000e+01]]\n"
     ]
    }
   ],
   "source": [
    "print(len(arr))\n",
    "print(len(arr[~np.isnan(arr).any(axis=1)]))\n",
    "print(arr[~np.isnan(arr).any(axis=1)])"
   ]
  },
  {
   "cell_type": "markdown",
   "metadata": {
    "colab_type": "text",
    "id": "bnfePZb1aryu"
   },
   "source": [
    "**e)** Calcule a média de cada coluna da visão not_nan e atribua aos nan da coluna altura a média da altura e aos nan da coluna peso a média da coluna peso. Antes da trocar os nan, calcule a média das colunas de arr para ver o que acontece. \n",
    "\n",
    "Lembre-se de como funcionam os eixos! Abaixo um exemplo com a função `sum()`\n",
    "![eixos](https://saskeli.github.io/data-analysis-with-python-summer-2019/_images/aggregation.svg)"
   ]
  },
  {
   "cell_type": "code",
   "execution_count": 6,
   "metadata": {
    "colab": {
     "base_uri": "https://localhost:8080/",
     "height": 102
    },
    "colab_type": "code",
    "executionInfo": {
     "elapsed": 929,
     "status": "ok",
     "timestamp": 1586138913451,
     "user": {
      "displayName": "Gustavo Favorito Demarchi",
      "photoUrl": "",
      "userId": "01940692939914574708"
     },
     "user_tz": 180
    },
    "id": "hzbjMI9garyx",
    "outputId": "771b8d3b-1339-4d83-e06e-a6458eeebd6c"
   },
   "outputs": [
    {
     "name": "stdout",
     "output_type": "stream",
     "text": [
      "[5.81472928e-01 3.57282525e+01 1.67612779e+03 5.60020529e+00\n",
      "            nan            nan 5.59917886e-01 3.84141647e-01\n",
      " 3.19301976e+01]\n",
      "[nan nan nan nan nan nan nan nan nan]\n"
     ]
    }
   ],
   "source": [
    "arr = None\n",
    "arr = np.loadtxt(arquivo, delimiter=';',dtype=np.float64, converters=conversores)\n",
    "medias_sem_trocar_nan = np.mean(arr, axis=0).copy()\n",
    "medias_nao_nan = np.mean(arr, axis=0)\n",
    "medias_nan = [media for condicao, media in zip(colunas_com_nan, medias_nao_nan) if condicao]\n",
    "\n",
    "for e, linha in enumerate(arr[:, colunas_com_nan]):\n",
    "  for i, elem in enumerate(linha):\n",
    "    if np.isnan(elem):\n",
    "      arr[e] = medias_nan[i]\n",
    "\n",
    "print(medias_sem_trocar_nan)\n",
    "print(np.mean(arr, axis=0))"
   ]
  },
  {
   "cell_type": "markdown",
   "metadata": {
    "colab_type": "text",
    "id": "xL6ZiclZary0"
   },
   "source": [
    "**f)** calcule agora a média, o desvio padrão, o máximo e o mínimo de todas as colunas do array sem filtro"
   ]
  },
  {
   "cell_type": "code",
   "execution_count": 7,
   "metadata": {
    "colab": {
     "base_uri": "https://localhost:8080/",
     "height": 238
    },
    "colab_type": "code",
    "executionInfo": {
     "elapsed": 1007,
     "status": "ok",
     "timestamp": 1586138917201,
     "user": {
      "displayName": "Gustavo Favorito Demarchi",
      "photoUrl": "",
      "userId": "01940692939914574708"
     },
     "user_tz": 180
    },
    "id": "I2k-3OF_MkBi",
    "outputId": "7e628d82-4048-4d3e-dee2-f643b046ffac"
   },
   "outputs": [
    {
     "name": "stdout",
     "output_type": "stream",
     "text": [
      "Média:\n",
      "[nan nan nan nan nan nan nan nan nan]\n",
      "Desvio padrão:\n",
      "[nan nan nan nan nan nan nan nan nan]\n",
      "Máximo:\n",
      "[nan nan nan nan nan nan nan nan nan]\n",
      "Mínimo:\n",
      "[nan nan nan nan nan nan nan nan nan]\n"
     ]
    }
   ],
   "source": [
    "print('Média:\\n{}'.format(np.mean(arr, axis=0)))\n",
    "print('Desvio padrão:\\n{}'.format(np.std(arr, axis=0)))\n",
    "print('Máximo:\\n{}'.format(np.max(arr, axis=0)))\n",
    "print('Mínimo:\\n{}'.format(np.min(arr, axis=0)))"
   ]
  },
  {
   "cell_type": "markdown",
   "metadata": {
    "colab_type": "text",
    "id": "2j_myiFMary3"
   },
   "source": [
    "**2** Escreva duas funções, `get_rows` e `get_columns`, que recebem um array bidimensional como parâmetro. Elas devem retornar uma lista de linhas e colunas do array, respectivamente. As linhas e colunas devem ser matrizes unidimensionais. Você pode usar a operação de transposição, que inverte linhas para colunas, em sua solução. A transposição é feita pelo método `T`."
   ]
  },
  {
   "cell_type": "code",
   "execution_count": 8,
   "metadata": {
    "colab": {
     "base_uri": "https://localhost:8080/",
     "height": 153
    },
    "colab_type": "code",
    "executionInfo": {
     "elapsed": 946,
     "status": "ok",
     "timestamp": 1586138995364,
     "user": {
      "displayName": "Gustavo Favorito Demarchi",
      "photoUrl": "",
      "userId": "01940692939914574708"
     },
     "user_tz": 180
    },
    "id": "YRS35Vicary3",
    "outputId": "d4b8073a-2c08-45fb-ae28-b42ebf610926"
   },
   "outputs": [
    {
     "name": "stdout",
     "output_type": "stream",
     "text": [
      "[[0 4 6 0]\n",
      " [7 9 5 8]\n",
      " [8 8 9 1]\n",
      " [9 6 2 9]]\n",
      "[[0 7 8 9]\n",
      " [4 9 8 6]\n",
      " [6 5 9 2]\n",
      " [0 8 1 9]]\n"
     ]
    }
   ],
   "source": [
    "#exemplo\n",
    "a=np.random.randint(0, 10, (4,4))\n",
    "print(a)\n",
    "print(a.T)"
   ]
  },
  {
   "cell_type": "code",
   "execution_count": 9,
   "metadata": {
    "colab": {
     "base_uri": "https://localhost:8080/",
     "height": 153
    },
    "colab_type": "code",
    "executionInfo": {
     "elapsed": 1060,
     "status": "ok",
     "timestamp": 1586138996477,
     "user": {
      "displayName": "Gustavo Favorito Demarchi",
      "photoUrl": "",
      "userId": "01940692939914574708"
     },
     "user_tz": 180
    },
    "id": "aqVlBHpU3DvU",
    "outputId": "abe90c2d-1a19-4007-ad3b-dfa4b48b5955"
   },
   "outputs": [
    {
     "name": "stdout",
     "output_type": "stream",
     "text": [
      "[array([[0, 4, 6, 0],\n",
      "       [7, 9, 5, 8],\n",
      "       [8, 8, 9, 1],\n",
      "       [9, 6, 2, 9]])]\n",
      "[array([[0, 7, 8, 9],\n",
      "       [4, 9, 8, 6],\n",
      "       [6, 5, 9, 2],\n",
      "       [0, 8, 1, 9]])]\n"
     ]
    }
   ],
   "source": [
    "#exemplo\n",
    "linhas = []\n",
    "colunas = []\n",
    "def get_rows(a):\n",
    "  return [a]\n",
    "linhas.append(a)\n",
    "print(linhas)\n",
    "def get_columns(a):\n",
    "  return[a]\n",
    "colunas.append(a.T)\n",
    "print(colunas)"
   ]
  },
  {
   "cell_type": "code",
   "execution_count": 10,
   "metadata": {
    "colab": {},
    "colab_type": "code",
    "id": "RzTljYKuary5"
   },
   "outputs": [],
   "source": [
    "#solução\n",
    "def get_rows(m):\n",
    "    linhas = []\n",
    "    for x in range(len(m)):\n",
    "      linhas.append(np.array(m[x]))\n",
    "    return linhas"
   ]
  },
  {
   "cell_type": "code",
   "execution_count": 11,
   "metadata": {
    "colab": {},
    "colab_type": "code",
    "id": "P4uh_VJTary7"
   },
   "outputs": [],
   "source": [
    "#solução\n",
    "def get_columns(m):\n",
    "    colunas = []\n",
    "    for x in range(len(m)):\n",
    "      colunas.append(np.array(m.T[x]))\n",
    "    return colunas"
   ]
  },
  {
   "cell_type": "code",
   "execution_count": 12,
   "metadata": {
    "colab": {},
    "colab_type": "code",
    "id": "t902kUxFary9"
   },
   "outputs": [],
   "source": [
    "#teste - dados\n",
    "a = np.array([[5, 0, 3, 3],\n",
    "              [7, 9, 3, 5],\n",
    "              [2, 4, 7, 6],\n",
    "              [8, 8, 1, 6]])"
   ]
  },
  {
   "cell_type": "code",
   "execution_count": 13,
   "metadata": {
    "colab": {
     "base_uri": "https://localhost:8080/",
     "height": 34
    },
    "colab_type": "code",
    "executionInfo": {
     "elapsed": 1058,
     "status": "ok",
     "timestamp": 1586139003714,
     "user": {
      "displayName": "Gustavo Favorito Demarchi",
      "photoUrl": "",
      "userId": "01940692939914574708"
     },
     "user_tz": 180
    },
    "id": "bm11hIsyary_",
    "outputId": "547de223-3627-4560-bc94-ef64a1983ad4"
   },
   "outputs": [
    {
     "name": "stdout",
     "output_type": "stream",
     "text": [
      "[array([5, 0, 3, 3]), array([7, 9, 3, 5]), array([2, 4, 7, 6]), array([8, 8, 1, 6])]\n"
     ]
    }
   ],
   "source": [
    "#teste row\n",
    "print(get_rows(a))\n",
    "#[array([5, 0, 3, 3]), array([7, 9, 3, 5]), array([2, 4, 7, 6]), array([8, 8, 1, 6])]"
   ]
  },
  {
   "cell_type": "code",
   "execution_count": 14,
   "metadata": {
    "colab": {
     "base_uri": "https://localhost:8080/",
     "height": 34
    },
    "colab_type": "code",
    "executionInfo": {
     "elapsed": 861,
     "status": "ok",
     "timestamp": 1586139005430,
     "user": {
      "displayName": "Gustavo Favorito Demarchi",
      "photoUrl": "",
      "userId": "01940692939914574708"
     },
     "user_tz": 180
    },
    "id": "dCPLvQswarzB",
    "outputId": "e02ae475-44c9-40b6-ac79-4e9110dabaa3"
   },
   "outputs": [
    {
     "name": "stdout",
     "output_type": "stream",
     "text": [
      "[array([5, 7, 2, 8]), array([0, 9, 4, 8]), array([3, 3, 7, 1]), array([3, 5, 6, 6])]\n"
     ]
    }
   ],
   "source": [
    "#teste column\n",
    "print(get_columns(a))\n",
    "#[array([5, 7, 2, 8]), array([0, 9, 4, 8]), array([3, 3, 7, 1]), array([3, 5, 6, 6])]"
   ]
  },
  {
   "cell_type": "markdown",
   "metadata": {
    "colab_type": "text",
    "id": "Dbh0uz-sarzC"
   },
   "source": [
    "**3** Crie a função `get_row_vectors` que retorna uma lista de linhas do array de entrada da forma `(n, m)`, mas desta vez as linhas devem ter a forma `(1, m)`. Da mesma forma, crie a função get_columns_vectors que retorne uma lista de colunas (cada uma com forma `(n, 1)`) da matriz de entrada.\n",
    "\n",
    "Para a entrada:\n",
    "\n",
    "`[[5 0 3]\n",
    " [3 7 9]]`\n",
    " \n",
    "Deve ser gerada a saída:\n",
    "\n",
    "Vetor de Linhas:\n",
    "\n",
    "`[array([[5, 0, 3]]), array([[3, 7, 9]])]`\n",
    "\n",
    "Vetor de Colunas:\n",
    "\n",
    "`[array([[5],\n",
    "        [3]]),\n",
    " array([[0],\n",
    "        [7]]),\n",
    " array([[3],\n",
    "        [9]])]`"
   ]
  },
  {
   "cell_type": "code",
   "execution_count": 15,
   "metadata": {
    "colab": {},
    "colab_type": "code",
    "id": "edlCf3QgarzD"
   },
   "outputs": [],
   "source": [
    "#solucao row\n",
    "def get_row_vectors(m):\n",
    "  lista = []\n",
    "  for lin in m:\n",
    "    lista.append(np.array(lin).reshape(1, len(lin)))\n",
    "  return lista"
   ]
  },
  {
   "cell_type": "code",
   "execution_count": 16,
   "metadata": {
    "colab": {},
    "colab_type": "code",
    "id": "HZTzZhLXarzE"
   },
   "outputs": [],
   "source": [
    "#solucao column\n",
    "def get_column_vectors(m):\n",
    "    m = m.T\n",
    "    lista = []\n",
    "    for lin in m:\n",
    "        lista.append(np.array(lin).reshape(len(lin), 1))\n",
    "    return lista"
   ]
  },
  {
   "cell_type": "code",
   "execution_count": 17,
   "metadata": {
    "colab": {
     "base_uri": "https://localhost:8080/",
     "height": 34
    },
    "colab_type": "code",
    "executionInfo": {
     "elapsed": 1323,
     "status": "ok",
     "timestamp": 1586139012308,
     "user": {
      "displayName": "Gustavo Favorito Demarchi",
      "photoUrl": "",
      "userId": "01940692939914574708"
     },
     "user_tz": 180
    },
    "id": "2yV6pRWYarzG",
    "outputId": "2dcebac5-ae29-49d0-ccd5-84cf428c9503"
   },
   "outputs": [
    {
     "data": {
      "text/plain": [
       "(2, 3)"
      ]
     },
     "execution_count": 17,
     "metadata": {},
     "output_type": "execute_result"
    }
   ],
   "source": [
    "#teste - dados\n",
    "a = np.array([[5, 0, 3],[3, 7, 9]])\n",
    "a.shape"
   ]
  },
  {
   "cell_type": "code",
   "execution_count": 18,
   "metadata": {
    "colab": {
     "base_uri": "https://localhost:8080/",
     "height": 34
    },
    "colab_type": "code",
    "executionInfo": {
     "elapsed": 1453,
     "status": "ok",
     "timestamp": 1586139014402,
     "user": {
      "displayName": "Gustavo Favorito Demarchi",
      "photoUrl": "",
      "userId": "01940692939914574708"
     },
     "user_tz": 180
    },
    "id": "rPdmBx03arzI",
    "outputId": "70e00a1d-bf2f-444a-9586-4e6cbd4db2a9"
   },
   "outputs": [
    {
     "name": "stdout",
     "output_type": "stream",
     "text": [
      "[array([[5, 0, 3]]), array([[3, 7, 9]])]\n"
     ]
    }
   ],
   "source": [
    "#teste row\n",
    "print(get_row_vectors(a))"
   ]
  },
  {
   "cell_type": "code",
   "execution_count": 19,
   "metadata": {
    "colab": {
     "base_uri": "https://localhost:8080/",
     "height": 85
    },
    "colab_type": "code",
    "executionInfo": {
     "elapsed": 892,
     "status": "ok",
     "timestamp": 1586139016616,
     "user": {
      "displayName": "Gustavo Favorito Demarchi",
      "photoUrl": "",
      "userId": "01940692939914574708"
     },
     "user_tz": 180
    },
    "id": "jA97Taq6arzJ",
    "outputId": "6eb9ddf0-f8e3-4853-b506-b3bf026882b9",
    "scrolled": true
   },
   "outputs": [
    {
     "name": "stdout",
     "output_type": "stream",
     "text": [
      "[array([[5],\n",
      "       [3]]), array([[0],\n",
      "       [7]]), array([[3],\n",
      "       [9]])]\n"
     ]
    }
   ],
   "source": [
    "#test column\n",
    "print(get_column_vectors(a))"
   ]
  },
  {
   "cell_type": "markdown",
   "metadata": {
    "colab_type": "text",
    "id": "Xf52OnSDarzL"
   },
   "source": [
    "**4** Crie a função `diamante` que retorne um array inteiro bidimensional em que os 1s formem uma forma de diamante. O restante dos números é 0. A função deve receber um parâmetro que informe o comprimento de um lado do diamante. Faça isso usando as funções `eye` e `concatenate` do NumPy e o fatiamento de array.\n",
    "\n",
    "Ex:\n",
    "\n",
    "`print(diamante(3))`\n",
    "\n",
    "`[[0 0 1 0 0]\n",
    " [0 1 0 1 0]\n",
    " [1 0 0 0 1]\n",
    " [0 1 0 1 0]\n",
    " [0 0 1 0 0]]`\n",
    "\n",
    "`print(diamante(1))`\n",
    "\n",
    "`[[1]]`"
   ]
  },
  {
   "cell_type": "code",
   "execution_count": 20,
   "metadata": {
    "colab": {
     "base_uri": "https://localhost:8080/",
     "height": 68
    },
    "colab_type": "code",
    "executionInfo": {
     "elapsed": 854,
     "status": "ok",
     "timestamp": 1586139019224,
     "user": {
      "displayName": "Gustavo Favorito Demarchi",
      "photoUrl": "",
      "userId": "01940692939914574708"
     },
     "user_tz": 180
    },
    "id": "VNoP0twcarzL",
    "outputId": "7369c3cc-c712-47f9-8c23-e065fb7e85ee"
   },
   "outputs": [
    {
     "data": {
      "text/plain": [
       "array([[1, 2],\n",
       "       [3, 4],\n",
       "       [5, 6]])"
      ]
     },
     "execution_count": 20,
     "metadata": {},
     "output_type": "execute_result"
    }
   ],
   "source": [
    "#Exemplo do concatenate\n",
    "a = np.array([[1, 2], [3, 4]])\n",
    "b = np.array([[5, 6]])\n",
    "np.concatenate((a, b), axis=0)"
   ]
  },
  {
   "cell_type": "code",
   "execution_count": 21,
   "metadata": {
    "colab": {
     "base_uri": "https://localhost:8080/",
     "height": 51
    },
    "colab_type": "code",
    "executionInfo": {
     "elapsed": 839,
     "status": "ok",
     "timestamp": 1586139020535,
     "user": {
      "displayName": "Gustavo Favorito Demarchi",
      "photoUrl": "",
      "userId": "01940692939914574708"
     },
     "user_tz": 180
    },
    "id": "teDH_XiyarzN",
    "outputId": "5a2393f3-ba20-4cd7-b743-60cd08d1d4f4"
   },
   "outputs": [
    {
     "data": {
      "text/plain": [
       "array([[1, 2, 5],\n",
       "       [3, 4, 6]])"
      ]
     },
     "execution_count": 21,
     "metadata": {},
     "output_type": "execute_result"
    }
   ],
   "source": [
    "#Exemplo do concatenate\n",
    "np.concatenate((a, b.T), axis=1)"
   ]
  },
  {
   "cell_type": "code",
   "execution_count": 22,
   "metadata": {
    "colab": {
     "base_uri": "https://localhost:8080/",
     "height": 34
    },
    "colab_type": "code",
    "executionInfo": {
     "elapsed": 633,
     "status": "ok",
     "timestamp": 1586139021534,
     "user": {
      "displayName": "Gustavo Favorito Demarchi",
      "photoUrl": "",
      "userId": "01940692939914574708"
     },
     "user_tz": 180
    },
    "id": "hdV16qonarzO",
    "outputId": "b3ccc2b0-5666-4733-a17c-770349e7261a"
   },
   "outputs": [
    {
     "data": {
      "text/plain": [
       "array([1, 2, 3, 4, 5, 6])"
      ]
     },
     "execution_count": 22,
     "metadata": {},
     "output_type": "execute_result"
    }
   ],
   "source": [
    "#Exemplo do concatenate\n",
    "np.concatenate((a, b), axis=None)"
   ]
  },
  {
   "cell_type": "code",
   "execution_count": 23,
   "metadata": {
    "colab": {},
    "colab_type": "code",
    "id": "7Pu_ZB26arzP"
   },
   "outputs": [],
   "source": [
    "#solução\n",
    "def diamante(n):\n",
    "  lado_esq_cima = np.eye(n, dtype=int)[::-1]\n",
    "  lado_dir_cima = np.eye(n, k=-1, dtype=int)[:, :-1]\n",
    "  lado_esq_baixo = np.eye(n, k=1, dtype=int)[:-1]\n",
    "  lado_dir_baixo = np.eye(n, k=-2, dtype=int)[::-1][:-1, :-1]\n",
    "\n",
    "  lado_cima = np.concatenate((lado_esq_cima, lado_dir_cima), axis=1)\n",
    "  lado_baixo = np.concatenate((lado_esq_baixo, lado_dir_baixo), axis=1)\n",
    "  diamante = np.concatenate((lado_cima, lado_baixo), axis=0)\n",
    "  return diamante"
   ]
  },
  {
   "cell_type": "code",
   "execution_count": 24,
   "metadata": {
    "colab": {
     "base_uri": "https://localhost:8080/",
     "height": 170
    },
    "colab_type": "code",
    "executionInfo": {
     "elapsed": 851,
     "status": "ok",
     "timestamp": 1586139024141,
     "user": {
      "displayName": "Gustavo Favorito Demarchi",
      "photoUrl": "",
      "userId": "01940692939914574708"
     },
     "user_tz": 180
    },
    "id": "MER5lvF1arzR",
    "outputId": "154ab1ce-4a0c-4c87-f092-fd160887023b"
   },
   "outputs": [
    {
     "name": "stdout",
     "output_type": "stream",
     "text": [
      "[[0 0 0 0 1 0 0 0 0]\n",
      " [0 0 0 1 0 1 0 0 0]\n",
      " [0 0 1 0 0 0 1 0 0]\n",
      " [0 1 0 0 0 0 0 1 0]\n",
      " [1 0 0 0 0 0 0 0 1]\n",
      " [0 1 0 0 0 0 0 1 0]\n",
      " [0 0 1 0 0 0 1 0 0]\n",
      " [0 0 0 1 0 1 0 0 0]\n",
      " [0 0 0 0 1 0 0 0 0]]\n"
     ]
    }
   ],
   "source": [
    "#teste\n",
    "print(diamante(5))"
   ]
  },
  {
   "cell_type": "code",
   "execution_count": 25,
   "metadata": {
    "colab": {
     "base_uri": "https://localhost:8080/",
     "height": 34
    },
    "colab_type": "code",
    "executionInfo": {
     "elapsed": 697,
     "status": "ok",
     "timestamp": 1586139025159,
     "user": {
      "displayName": "Gustavo Favorito Demarchi",
      "photoUrl": "",
      "userId": "01940692939914574708"
     },
     "user_tz": 180
    },
    "id": "siKcjXaearzS",
    "outputId": "623832e4-1b9b-442d-956c-60bca28fff32"
   },
   "outputs": [
    {
     "name": "stdout",
     "output_type": "stream",
     "text": [
      "[[1]]\n"
     ]
    }
   ],
   "source": [
    "#teste\n",
    "print(diamante(1))"
   ]
  },
  {
   "cell_type": "markdown",
   "metadata": {
    "colab_type": "text",
    "id": "MqJ0kz8jarzT"
   },
   "source": [
    "**5** Escreva a função lambda `so_pares` que receba um array unidimensional de inteiros e devolva este array sem números ímpares. Dica: use indexação booleana.\n",
    "\n",
    "Ex:\n",
    "\n",
    "Entrada: \n",
    "\n",
    "`arr = np.array([0,1,2,3,4,5,6,7,8,9])`\n",
    "\n",
    "Saída:\n",
    "\n",
    "`array([0, 2, 4, 6, 8])`"
   ]
  },
  {
   "cell_type": "code",
   "execution_count": 26,
   "metadata": {
    "colab": {},
    "colab_type": "code",
    "id": "xNfs02lharzU"
   },
   "outputs": [],
   "source": [
    "#solucao\n",
    "so_pares = lambda a: a[a%2==0]"
   ]
  },
  {
   "cell_type": "code",
   "execution_count": 27,
   "metadata": {
    "colab": {
     "base_uri": "https://localhost:8080/",
     "height": 34
    },
    "colab_type": "code",
    "executionInfo": {
     "elapsed": 523,
     "status": "ok",
     "timestamp": 1586139030154,
     "user": {
      "displayName": "Gustavo Favorito Demarchi",
      "photoUrl": "",
      "userId": "01940692939914574708"
     },
     "user_tz": 180
    },
    "id": "4aEdKKcvarzV",
    "outputId": "ee2b7120-46bd-4f22-dbba-3422722b60a5"
   },
   "outputs": [
    {
     "data": {
      "text/plain": [
       "array([0, 2, 4, 6, 8])"
      ]
     },
     "execution_count": 27,
     "metadata": {},
     "output_type": "execute_result"
    }
   ],
   "source": [
    "#teste\n",
    "arr = np.arange(10)\n",
    "so_pares(arr)"
   ]
  },
  {
   "cell_type": "markdown",
   "metadata": {
    "colab_type": "text",
    "id": "ZwTTdLZNarzX"
   },
   "source": [
    "**6** Escreva a função lambda `cade_os_iguais` que receba dois arrays unidimensionais de inteiros x e y e devolva um array com a(s) posição(ões) em que há números iguais nos dos arrays. Não use `for`. Dica: use np.where\n",
    "\n",
    "Ex:\n",
    "\n",
    "Entrada: \n",
    "\n",
    "`x = np.array([5,6,7,8,3,4])`\n",
    "\n",
    "`y = np.array([5,3,4,5,2,4])`\n",
    "\n",
    "Saída:\n",
    "\n",
    "`array([0, 5])`"
   ]
  },
  {
   "cell_type": "code",
   "execution_count": 28,
   "metadata": {
    "colab": {},
    "colab_type": "code",
    "id": "nq4FPEFaarzX"
   },
   "outputs": [],
   "source": [
    "#solucao\n",
    "cade_os_iguais = lambda x, y: np.where(x==y)"
   ]
  },
  {
   "cell_type": "code",
   "execution_count": 29,
   "metadata": {
    "colab": {
     "base_uri": "https://localhost:8080/",
     "height": 34
    },
    "colab_type": "code",
    "executionInfo": {
     "elapsed": 539,
     "status": "ok",
     "timestamp": 1586139033874,
     "user": {
      "displayName": "Gustavo Favorito Demarchi",
      "photoUrl": "",
      "userId": "01940692939914574708"
     },
     "user_tz": 180
    },
    "id": "Ntty0be2arzY",
    "outputId": "625d9010-1e25-4e0f-b9a4-a1a3b2471d19"
   },
   "outputs": [
    {
     "data": {
      "text/plain": [
       "(array([0, 5], dtype=int32),)"
      ]
     },
     "execution_count": 29,
     "metadata": {},
     "output_type": "execute_result"
    }
   ],
   "source": [
    "#teste\n",
    "x = np.array([5,6,7,8,3,4])\n",
    "y = np.array([5,3,4,5,2,4])\n",
    "\n",
    "cade_os_iguais(x, y)"
   ]
  }
 ],
 "metadata": {
  "colab": {
   "collapsed_sections": [],
   "name": "copia_Atividade03_numpy_basico.ipynb",
   "provenance": [
    {
     "file_id": "1o3vk8CuHwBx2ypusY8PyLQPAiLyINp0R",
     "timestamp": 1585850448012
    }
   ]
  },
  "kernelspec": {
   "display_name": "Python 3",
   "language": "python",
   "name": "python3"
  },
  "language_info": {
   "codemirror_mode": {
    "name": "ipython",
    "version": 3
   },
   "file_extension": ".py",
   "mimetype": "text/x-python",
   "name": "python",
   "nbconvert_exporter": "python",
   "pygments_lexer": "ipython3",
   "version": "3.8.3"
  }
 },
 "nbformat": 4,
 "nbformat_minor": 1
}
